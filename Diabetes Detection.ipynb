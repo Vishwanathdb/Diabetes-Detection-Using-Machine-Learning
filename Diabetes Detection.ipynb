{
 "cells": [
  {
   "cell_type": "markdown",
   "id": "6a4d80d9",
   "metadata": {},
   "source": [
    "# Importing Dataset "
   ]
  },
  {
   "cell_type": "code",
   "execution_count": 1,
   "id": "12da5a37",
   "metadata": {},
   "outputs": [],
   "source": [
    "# To Read CSV file\n",
    "import pandas as pd\n",
    "\n",
    "# To split dataset for testing and training\n",
    "from sklearn.model_selection import train_test_split\n",
    "\n",
    "# To calculate the accuracy of predicted result\n",
    "from sklearn.metrics import accuracy_score\n",
    "\n",
    "# To plot graph\n",
    "import matplotlib.pyplot as plt\n",
    "import seaborn as sns\n",
    "%matplotlib inline\n",
    "sns.set_style('darkgrid')"
   ]
  },
  {
   "cell_type": "code",
   "execution_count": 2,
   "id": "9ef925e5",
   "metadata": {},
   "outputs": [
    {
     "data": {
      "text/html": [
       "<div>\n",
       "<style scoped>\n",
       "    .dataframe tbody tr th:only-of-type {\n",
       "        vertical-align: middle;\n",
       "    }\n",
       "\n",
       "    .dataframe tbody tr th {\n",
       "        vertical-align: top;\n",
       "    }\n",
       "\n",
       "    .dataframe thead th {\n",
       "        text-align: right;\n",
       "    }\n",
       "</style>\n",
       "<table border=\"1\" class=\"dataframe\">\n",
       "  <thead>\n",
       "    <tr style=\"text-align: right;\">\n",
       "      <th></th>\n",
       "      <th>preg</th>\n",
       "      <th>plas</th>\n",
       "      <th>pres</th>\n",
       "      <th>skin</th>\n",
       "      <th>insu</th>\n",
       "      <th>mass</th>\n",
       "      <th>pedi</th>\n",
       "      <th>age</th>\n",
       "      <th>class</th>\n",
       "    </tr>\n",
       "  </thead>\n",
       "  <tbody>\n",
       "    <tr>\n",
       "      <th>0</th>\n",
       "      <td>6</td>\n",
       "      <td>148</td>\n",
       "      <td>72</td>\n",
       "      <td>35</td>\n",
       "      <td>0</td>\n",
       "      <td>33.6</td>\n",
       "      <td>0.627</td>\n",
       "      <td>50</td>\n",
       "      <td>tested_positive</td>\n",
       "    </tr>\n",
       "    <tr>\n",
       "      <th>1</th>\n",
       "      <td>1</td>\n",
       "      <td>85</td>\n",
       "      <td>66</td>\n",
       "      <td>29</td>\n",
       "      <td>0</td>\n",
       "      <td>26.6</td>\n",
       "      <td>0.351</td>\n",
       "      <td>31</td>\n",
       "      <td>tested_negative</td>\n",
       "    </tr>\n",
       "    <tr>\n",
       "      <th>2</th>\n",
       "      <td>8</td>\n",
       "      <td>183</td>\n",
       "      <td>64</td>\n",
       "      <td>0</td>\n",
       "      <td>0</td>\n",
       "      <td>23.3</td>\n",
       "      <td>0.672</td>\n",
       "      <td>32</td>\n",
       "      <td>tested_positive</td>\n",
       "    </tr>\n",
       "    <tr>\n",
       "      <th>3</th>\n",
       "      <td>1</td>\n",
       "      <td>89</td>\n",
       "      <td>66</td>\n",
       "      <td>23</td>\n",
       "      <td>94</td>\n",
       "      <td>28.1</td>\n",
       "      <td>0.167</td>\n",
       "      <td>21</td>\n",
       "      <td>tested_negative</td>\n",
       "    </tr>\n",
       "    <tr>\n",
       "      <th>4</th>\n",
       "      <td>0</td>\n",
       "      <td>137</td>\n",
       "      <td>40</td>\n",
       "      <td>35</td>\n",
       "      <td>168</td>\n",
       "      <td>43.1</td>\n",
       "      <td>2.288</td>\n",
       "      <td>33</td>\n",
       "      <td>tested_positive</td>\n",
       "    </tr>\n",
       "    <tr>\n",
       "      <th>...</th>\n",
       "      <td>...</td>\n",
       "      <td>...</td>\n",
       "      <td>...</td>\n",
       "      <td>...</td>\n",
       "      <td>...</td>\n",
       "      <td>...</td>\n",
       "      <td>...</td>\n",
       "      <td>...</td>\n",
       "      <td>...</td>\n",
       "    </tr>\n",
       "    <tr>\n",
       "      <th>763</th>\n",
       "      <td>10</td>\n",
       "      <td>101</td>\n",
       "      <td>76</td>\n",
       "      <td>48</td>\n",
       "      <td>180</td>\n",
       "      <td>32.9</td>\n",
       "      <td>0.171</td>\n",
       "      <td>63</td>\n",
       "      <td>tested_negative</td>\n",
       "    </tr>\n",
       "    <tr>\n",
       "      <th>764</th>\n",
       "      <td>2</td>\n",
       "      <td>122</td>\n",
       "      <td>70</td>\n",
       "      <td>27</td>\n",
       "      <td>0</td>\n",
       "      <td>36.8</td>\n",
       "      <td>0.340</td>\n",
       "      <td>27</td>\n",
       "      <td>tested_negative</td>\n",
       "    </tr>\n",
       "    <tr>\n",
       "      <th>765</th>\n",
       "      <td>5</td>\n",
       "      <td>121</td>\n",
       "      <td>72</td>\n",
       "      <td>23</td>\n",
       "      <td>112</td>\n",
       "      <td>26.2</td>\n",
       "      <td>0.245</td>\n",
       "      <td>30</td>\n",
       "      <td>tested_negative</td>\n",
       "    </tr>\n",
       "    <tr>\n",
       "      <th>766</th>\n",
       "      <td>1</td>\n",
       "      <td>126</td>\n",
       "      <td>60</td>\n",
       "      <td>0</td>\n",
       "      <td>0</td>\n",
       "      <td>30.1</td>\n",
       "      <td>0.349</td>\n",
       "      <td>47</td>\n",
       "      <td>tested_positive</td>\n",
       "    </tr>\n",
       "    <tr>\n",
       "      <th>767</th>\n",
       "      <td>1</td>\n",
       "      <td>93</td>\n",
       "      <td>70</td>\n",
       "      <td>31</td>\n",
       "      <td>0</td>\n",
       "      <td>30.4</td>\n",
       "      <td>0.315</td>\n",
       "      <td>23</td>\n",
       "      <td>tested_negative</td>\n",
       "    </tr>\n",
       "  </tbody>\n",
       "</table>\n",
       "<p>768 rows × 9 columns</p>\n",
       "</div>"
      ],
      "text/plain": [
       "     preg  plas  pres  skin  insu  mass   pedi  age            class\n",
       "0       6   148    72    35     0  33.6  0.627   50  tested_positive\n",
       "1       1    85    66    29     0  26.6  0.351   31  tested_negative\n",
       "2       8   183    64     0     0  23.3  0.672   32  tested_positive\n",
       "3       1    89    66    23    94  28.1  0.167   21  tested_negative\n",
       "4       0   137    40    35   168  43.1  2.288   33  tested_positive\n",
       "..    ...   ...   ...   ...   ...   ...    ...  ...              ...\n",
       "763    10   101    76    48   180  32.9  0.171   63  tested_negative\n",
       "764     2   122    70    27     0  36.8  0.340   27  tested_negative\n",
       "765     5   121    72    23   112  26.2  0.245   30  tested_negative\n",
       "766     1   126    60     0     0  30.1  0.349   47  tested_positive\n",
       "767     1    93    70    31     0  30.4  0.315   23  tested_negative\n",
       "\n",
       "[768 rows x 9 columns]"
      ]
     },
     "execution_count": 2,
     "metadata": {},
     "output_type": "execute_result"
    }
   ],
   "source": [
    "diabetes_df = pd.read_csv('diabetes_csv.csv')\n",
    "diabetes_df"
   ]
  },
  {
   "cell_type": "code",
   "execution_count": 3,
   "id": "7b1bd28b",
   "metadata": {},
   "outputs": [
    {
     "data": {
      "text/plain": [
       "(768, 9)"
      ]
     },
     "execution_count": 3,
     "metadata": {},
     "output_type": "execute_result"
    }
   ],
   "source": [
    "diabetes_df.shape"
   ]
  },
  {
   "cell_type": "code",
   "execution_count": 4,
   "id": "2db09167",
   "metadata": {},
   "outputs": [
    {
     "name": "stdout",
     "output_type": "stream",
     "text": [
      "<class 'pandas.core.frame.DataFrame'>\n",
      "RangeIndex: 768 entries, 0 to 767\n",
      "Data columns (total 9 columns):\n",
      " #   Column  Non-Null Count  Dtype  \n",
      "---  ------  --------------  -----  \n",
      " 0   preg    768 non-null    int64  \n",
      " 1   plas    768 non-null    int64  \n",
      " 2   pres    768 non-null    int64  \n",
      " 3   skin    768 non-null    int64  \n",
      " 4   insu    768 non-null    int64  \n",
      " 5   mass    768 non-null    float64\n",
      " 6   pedi    768 non-null    float64\n",
      " 7   age     768 non-null    int64  \n",
      " 8   class   768 non-null    object \n",
      "dtypes: float64(2), int64(6), object(1)\n",
      "memory usage: 54.1+ KB\n"
     ]
    }
   ],
   "source": [
    "diabetes_df.info()"
   ]
  },
  {
   "cell_type": "code",
   "execution_count": 5,
   "id": "5d652412",
   "metadata": {},
   "outputs": [
    {
     "data": {
      "text/html": [
       "<div>\n",
       "<style scoped>\n",
       "    .dataframe tbody tr th:only-of-type {\n",
       "        vertical-align: middle;\n",
       "    }\n",
       "\n",
       "    .dataframe tbody tr th {\n",
       "        vertical-align: top;\n",
       "    }\n",
       "\n",
       "    .dataframe thead th {\n",
       "        text-align: right;\n",
       "    }\n",
       "</style>\n",
       "<table border=\"1\" class=\"dataframe\">\n",
       "  <thead>\n",
       "    <tr style=\"text-align: right;\">\n",
       "      <th></th>\n",
       "      <th>preg</th>\n",
       "      <th>plas</th>\n",
       "      <th>pres</th>\n",
       "      <th>skin</th>\n",
       "      <th>insu</th>\n",
       "      <th>mass</th>\n",
       "      <th>pedi</th>\n",
       "      <th>age</th>\n",
       "    </tr>\n",
       "  </thead>\n",
       "  <tbody>\n",
       "    <tr>\n",
       "      <th>count</th>\n",
       "      <td>768.000000</td>\n",
       "      <td>768.000000</td>\n",
       "      <td>768.000000</td>\n",
       "      <td>768.000000</td>\n",
       "      <td>768.000000</td>\n",
       "      <td>768.000000</td>\n",
       "      <td>768.000000</td>\n",
       "      <td>768.000000</td>\n",
       "    </tr>\n",
       "    <tr>\n",
       "      <th>mean</th>\n",
       "      <td>3.845052</td>\n",
       "      <td>120.894531</td>\n",
       "      <td>69.105469</td>\n",
       "      <td>20.536458</td>\n",
       "      <td>79.799479</td>\n",
       "      <td>31.992578</td>\n",
       "      <td>0.471876</td>\n",
       "      <td>33.240885</td>\n",
       "    </tr>\n",
       "    <tr>\n",
       "      <th>std</th>\n",
       "      <td>3.369578</td>\n",
       "      <td>31.972618</td>\n",
       "      <td>19.355807</td>\n",
       "      <td>15.952218</td>\n",
       "      <td>115.244002</td>\n",
       "      <td>7.884160</td>\n",
       "      <td>0.331329</td>\n",
       "      <td>11.760232</td>\n",
       "    </tr>\n",
       "    <tr>\n",
       "      <th>min</th>\n",
       "      <td>0.000000</td>\n",
       "      <td>0.000000</td>\n",
       "      <td>0.000000</td>\n",
       "      <td>0.000000</td>\n",
       "      <td>0.000000</td>\n",
       "      <td>0.000000</td>\n",
       "      <td>0.078000</td>\n",
       "      <td>21.000000</td>\n",
       "    </tr>\n",
       "    <tr>\n",
       "      <th>25%</th>\n",
       "      <td>1.000000</td>\n",
       "      <td>99.000000</td>\n",
       "      <td>62.000000</td>\n",
       "      <td>0.000000</td>\n",
       "      <td>0.000000</td>\n",
       "      <td>27.300000</td>\n",
       "      <td>0.243750</td>\n",
       "      <td>24.000000</td>\n",
       "    </tr>\n",
       "    <tr>\n",
       "      <th>50%</th>\n",
       "      <td>3.000000</td>\n",
       "      <td>117.000000</td>\n",
       "      <td>72.000000</td>\n",
       "      <td>23.000000</td>\n",
       "      <td>30.500000</td>\n",
       "      <td>32.000000</td>\n",
       "      <td>0.372500</td>\n",
       "      <td>29.000000</td>\n",
       "    </tr>\n",
       "    <tr>\n",
       "      <th>75%</th>\n",
       "      <td>6.000000</td>\n",
       "      <td>140.250000</td>\n",
       "      <td>80.000000</td>\n",
       "      <td>32.000000</td>\n",
       "      <td>127.250000</td>\n",
       "      <td>36.600000</td>\n",
       "      <td>0.626250</td>\n",
       "      <td>41.000000</td>\n",
       "    </tr>\n",
       "    <tr>\n",
       "      <th>max</th>\n",
       "      <td>17.000000</td>\n",
       "      <td>199.000000</td>\n",
       "      <td>122.000000</td>\n",
       "      <td>99.000000</td>\n",
       "      <td>846.000000</td>\n",
       "      <td>67.100000</td>\n",
       "      <td>2.420000</td>\n",
       "      <td>81.000000</td>\n",
       "    </tr>\n",
       "  </tbody>\n",
       "</table>\n",
       "</div>"
      ],
      "text/plain": [
       "             preg        plas        pres        skin        insu        mass  \\\n",
       "count  768.000000  768.000000  768.000000  768.000000  768.000000  768.000000   \n",
       "mean     3.845052  120.894531   69.105469   20.536458   79.799479   31.992578   \n",
       "std      3.369578   31.972618   19.355807   15.952218  115.244002    7.884160   \n",
       "min      0.000000    0.000000    0.000000    0.000000    0.000000    0.000000   \n",
       "25%      1.000000   99.000000   62.000000    0.000000    0.000000   27.300000   \n",
       "50%      3.000000  117.000000   72.000000   23.000000   30.500000   32.000000   \n",
       "75%      6.000000  140.250000   80.000000   32.000000  127.250000   36.600000   \n",
       "max     17.000000  199.000000  122.000000   99.000000  846.000000   67.100000   \n",
       "\n",
       "             pedi         age  \n",
       "count  768.000000  768.000000  \n",
       "mean     0.471876   33.240885  \n",
       "std      0.331329   11.760232  \n",
       "min      0.078000   21.000000  \n",
       "25%      0.243750   24.000000  \n",
       "50%      0.372500   29.000000  \n",
       "75%      0.626250   41.000000  \n",
       "max      2.420000   81.000000  "
      ]
     },
     "execution_count": 5,
     "metadata": {},
     "output_type": "execute_result"
    }
   ],
   "source": [
    "diabetes_df.describe()"
   ]
  },
  {
   "cell_type": "code",
   "execution_count": 6,
   "id": "d0d993cb",
   "metadata": {},
   "outputs": [
    {
     "data": {
      "text/plain": [
       "Index(['preg', 'plas', 'pres', 'skin', 'insu', 'mass', 'pedi', 'age', 'class'], dtype='object')"
      ]
     },
     "execution_count": 6,
     "metadata": {},
     "output_type": "execute_result"
    }
   ],
   "source": [
    "diabetes_df.columns"
   ]
  },
  {
   "cell_type": "code",
   "execution_count": null,
   "id": "8bd1bdfa",
   "metadata": {},
   "outputs": [],
   "source": []
  },
  {
   "cell_type": "code",
   "execution_count": null,
   "id": "cb1027cc",
   "metadata": {},
   "outputs": [],
   "source": []
  },
  {
   "cell_type": "markdown",
   "id": "633f58e0",
   "metadata": {},
   "source": [
    "# Data Cleaning"
   ]
  },
  {
   "cell_type": "code",
   "execution_count": 7,
   "id": "ed24ae02",
   "metadata": {},
   "outputs": [
    {
     "data": {
      "text/plain": [
       "preg     0\n",
       "plas     0\n",
       "pres     0\n",
       "skin     0\n",
       "insu     0\n",
       "mass     0\n",
       "pedi     0\n",
       "age      0\n",
       "class    0\n",
       "dtype: int64"
      ]
     },
     "execution_count": 7,
     "metadata": {},
     "output_type": "execute_result"
    }
   ],
   "source": [
    "diabetes_df.isnull().sum()"
   ]
  },
  {
   "cell_type": "markdown",
   "id": "53bed4e5",
   "metadata": {},
   "source": [
    "### plas, pres, skin, insu and mass can't have value 0."
   ]
  },
  {
   "cell_type": "code",
   "execution_count": 8,
   "id": "51a73047",
   "metadata": {},
   "outputs": [
    {
     "data": {
      "text/plain": [
       "True"
      ]
     },
     "execution_count": 8,
     "metadata": {},
     "output_type": "execute_result"
    }
   ],
   "source": [
    "0 in diabetes_df.plas"
   ]
  },
  {
   "cell_type": "code",
   "execution_count": 9,
   "id": "61c4ade0",
   "metadata": {},
   "outputs": [
    {
     "data": {
      "text/plain": [
       "True"
      ]
     },
     "execution_count": 9,
     "metadata": {},
     "output_type": "execute_result"
    }
   ],
   "source": [
    "0 in diabetes_df.pres"
   ]
  },
  {
   "cell_type": "code",
   "execution_count": 10,
   "id": "54a65630",
   "metadata": {},
   "outputs": [
    {
     "data": {
      "text/plain": [
       "True"
      ]
     },
     "execution_count": 10,
     "metadata": {},
     "output_type": "execute_result"
    }
   ],
   "source": [
    "0 in diabetes_df.skin"
   ]
  },
  {
   "cell_type": "code",
   "execution_count": 11,
   "id": "ea831e9b",
   "metadata": {},
   "outputs": [
    {
     "data": {
      "text/plain": [
       "True"
      ]
     },
     "execution_count": 11,
     "metadata": {},
     "output_type": "execute_result"
    }
   ],
   "source": [
    "0 in diabetes_df.insu"
   ]
  },
  {
   "cell_type": "code",
   "execution_count": 12,
   "id": "c497144f",
   "metadata": {},
   "outputs": [
    {
     "data": {
      "text/plain": [
       "True"
      ]
     },
     "execution_count": 12,
     "metadata": {},
     "output_type": "execute_result"
    }
   ],
   "source": [
    "0 in diabetes_df.mass"
   ]
  },
  {
   "cell_type": "markdown",
   "id": "34cccb30",
   "metadata": {},
   "source": [
    "### Replacing zero with mean of respective column"
   ]
  },
  {
   "cell_type": "code",
   "execution_count": 13,
   "id": "86244b9a",
   "metadata": {},
   "outputs": [],
   "source": [
    "import numpy as np"
   ]
  },
  {
   "cell_type": "code",
   "execution_count": 14,
   "id": "934c1aeb",
   "metadata": {},
   "outputs": [],
   "source": [
    "zero_not_accepted = ['plas', 'pres', 'skin', 'insu', 'mass']"
   ]
  },
  {
   "cell_type": "code",
   "execution_count": 15,
   "id": "95dc72a3",
   "metadata": {},
   "outputs": [],
   "source": [
    "for column in zero_not_accepted :\n",
    "    diabetes_df[column] = diabetes_df[column].replace(0, np.NaN)\n",
    "    mean = int(diabetes_df[column].mean(skipna=True))\n",
    "    diabetes_df[column] = diabetes_df[column].replace(np.NaN, mean)"
   ]
  },
  {
   "cell_type": "code",
   "execution_count": null,
   "id": "e117062b",
   "metadata": {},
   "outputs": [],
   "source": []
  },
  {
   "cell_type": "code",
   "execution_count": null,
   "id": "947d58cc",
   "metadata": {},
   "outputs": [],
   "source": []
  },
  {
   "cell_type": "markdown",
   "id": "aef257be",
   "metadata": {},
   "source": [
    "# Data Exploration and Visualization"
   ]
  },
  {
   "cell_type": "code",
   "execution_count": 16,
   "id": "49faa8b7",
   "metadata": {},
   "outputs": [],
   "source": [
    "# Checking the distribution of the predictor variables"
   ]
  },
  {
   "cell_type": "code",
   "execution_count": 17,
   "id": "07fdc77a",
   "metadata": {},
   "outputs": [
    {
     "name": "stderr",
     "output_type": "stream",
     "text": [
      "D:\\Anaconda\\lib\\site-packages\\seaborn\\distributions.py:2557: FutureWarning: `distplot` is a deprecated function and will be removed in a future version. Please adapt your code to use either `displot` (a figure-level function with similar flexibility) or `histplot` (an axes-level function for histograms).\n",
      "  warnings.warn(msg, FutureWarning)\n"
     ]
    },
    {
     "data": {
      "text/plain": [
       "<AxesSubplot:xlabel='preg', ylabel='Density'>"
      ]
     },
     "execution_count": 17,
     "metadata": {},
     "output_type": "execute_result"
    },
    {
     "data": {
      "image/png": "[encoded data removed]",
      "text/plain": [
       "<Figure size 432x288 with 1 Axes>"
      ]
     },
     "metadata": {},
     "output_type": "display_data"
    }
   ],
   "source": [
    "# Distribution of Pregnancies\n",
    "\n",
    "sns.distplot(diabetes_df.preg)"
   ]
  },
  {
   "cell_type": "code",
   "execution_count": 18,
   "id": "3c64fda3",
   "metadata": {},
   "outputs": [
    {
     "name": "stderr",
     "output_type": "stream",
     "text": [
      "D:\\Anaconda\\lib\\site-packages\\seaborn\\distributions.py:2557: FutureWarning: `distplot` is a deprecated function and will be removed in a future version. Please adapt your code to use either `displot` (a figure-level function with similar flexibility) or `histplot` (an axes-level function for histograms).\n",
      "  warnings.warn(msg, FutureWarning)\n"
     ]
    },
    {
     "data": {
      "text/plain": [
       "<AxesSubplot:xlabel='plas', ylabel='Density'>"
      ]
     },
     "execution_count": 18,
     "metadata": {},
     "output_type": "execute_result"
    },
    {
     "data": {
      "image/png": "[encoded data removed]",
      "text/plain": [
       "<Figure size 432x288 with 1 Axes>"
      ]
     },
     "metadata": {},
     "output_type": "display_data"
    }
   ],
   "source": [
    "# Distribution of Plasma\n",
    "\n",
    "sns.distplot(diabetes_df.plas)"
   ]
  },
  {
   "cell_type": "code",
   "execution_count": 19,
   "id": "20fff645",
   "metadata": {},
   "outputs": [
    {
     "name": "stderr",
     "output_type": "stream",
     "text": [
      "D:\\Anaconda\\lib\\site-packages\\seaborn\\distributions.py:2557: FutureWarning: `distplot` is a deprecated function and will be removed in a future version. Please adapt your code to use either `displot` (a figure-level function with similar flexibility) or `histplot` (an axes-level function for histograms).\n",
      "  warnings.warn(msg, FutureWarning)\n"
     ]
    },
    {
     "data": {
      "text/plain": [
       "<AxesSubplot:xlabel='pres', ylabel='Density'>"
      ]
     },
     "execution_count": 19,
     "metadata": {},
     "output_type": "execute_result"
    },
    {
     "data": {
      "image/png": "[encoded data removed]",
      "text/plain": [
       "<Figure size 432x288 with 1 Axes>"
      ]
     },
     "metadata": {},
     "output_type": "display_data"
    }
   ],
   "source": [
    "# Distribution of Blood Pressure\n",
    "\n",
    "sns.distplot(diabetes_df.pres)"
   ]
  },
  {
   "cell_type": "code",
   "execution_count": 20,
   "id": "fe1edb81",
   "metadata": {},
   "outputs": [
    {
     "name": "stderr",
     "output_type": "stream",
     "text": [
      "D:\\Anaconda\\lib\\site-packages\\seaborn\\distributions.py:2557: FutureWarning: `distplot` is a deprecated function and will be removed in a future version. Please adapt your code to use either `displot` (a figure-level function with similar flexibility) or `histplot` (an axes-level function for histograms).\n",
      "  warnings.warn(msg, FutureWarning)\n"
     ]
    },
    {
     "data": {
      "text/plain": [
       "<AxesSubplot:xlabel='skin', ylabel='Density'>"
      ]
     },
     "execution_count": 20,
     "metadata": {},
     "output_type": "execute_result"
    },
    {
     "data": {
      "image/png": "[encoded data removed]",
      "text/plain": [
       "<Figure size 432x288 with 1 Axes>"
      ]
     },
     "metadata": {},
     "output_type": "display_data"
    }
   ],
   "source": [
    "# Distribution of Skin Thickness\n",
    "\n",
    "sns.distplot(diabetes_df.skin)"
   ]
  },
  {
   "cell_type": "code",
   "execution_count": 21,
   "id": "ada3f6c8",
   "metadata": {},
   "outputs": [
    {
     "name": "stderr",
     "output_type": "stream",
     "text": [
      "D:\\Anaconda\\lib\\site-packages\\seaborn\\distributions.py:2557: FutureWarning: `distplot` is a deprecated function and will be removed in a future version. Please adapt your code to use either `displot` (a figure-level function with similar flexibility) or `histplot` (an axes-level function for histograms).\n",
      "  warnings.warn(msg, FutureWarning)\n"
     ]
    },
    {
     "data": {
      "text/plain": [
       "<AxesSubplot:xlabel='insu', ylabel='Density'>"
      ]
     },
     "execution_count": 21,
     "metadata": {},
     "output_type": "execute_result"
    },
    {
     "data": {
      "image/png": "[encoded data removed]",
      "text/plain": [
       "<Figure size 432x288 with 1 Axes>"
      ]
     },
     "metadata": {},
     "output_type": "display_data"
    }
   ],
   "source": [
    "# Distribution of Insulin\n",
    "\n",
    "sns.distplot(diabetes_df.insu)"
   ]
  },
  {
   "cell_type": "code",
   "execution_count": 22,
   "id": "d188b5d9",
   "metadata": {},
   "outputs": [
    {
     "name": "stderr",
     "output_type": "stream",
     "text": [
      "D:\\Anaconda\\lib\\site-packages\\seaborn\\distributions.py:2557: FutureWarning: `distplot` is a deprecated function and will be removed in a future version. Please adapt your code to use either `displot` (a figure-level function with similar flexibility) or `histplot` (an axes-level function for histograms).\n",
      "  warnings.warn(msg, FutureWarning)\n"
     ]
    },
    {
     "data": {
      "text/plain": [
       "<AxesSubplot:xlabel='mass', ylabel='Density'>"
      ]
     },
     "execution_count": 22,
     "metadata": {},
     "output_type": "execute_result"
    },
    {
     "data": {
      "image/png": "[encoded data removed]",
      "text/plain": [
       "<Figure size 432x288 with 1 Axes>"
      ]
     },
     "metadata": {},
     "output_type": "display_data"
    }
   ],
   "source": [
    "# Distribution of Body Mass Index\n",
    "\n",
    "sns.distplot(diabetes_df.mass)"
   ]
  },
  {
   "cell_type": "code",
   "execution_count": 23,
   "id": "cf806f16",
   "metadata": {},
   "outputs": [
    {
     "name": "stderr",
     "output_type": "stream",
     "text": [
      "D:\\Anaconda\\lib\\site-packages\\seaborn\\distributions.py:2557: FutureWarning: `distplot` is a deprecated function and will be removed in a future version. Please adapt your code to use either `displot` (a figure-level function with similar flexibility) or `histplot` (an axes-level function for histograms).\n",
      "  warnings.warn(msg, FutureWarning)\n"
     ]
    },
    {
     "data": {
      "text/plain": [
       "<AxesSubplot:xlabel='pedi', ylabel='Density'>"
      ]
     },
     "execution_count": 23,
     "metadata": {},
     "output_type": "execute_result"
    },
    {
     "data": {
      "image/png": "[encoded data removed]",
      "text/plain": [
       "<Figure size 432x288 with 1 Axes>"
      ]
     },
     "metadata": {},
     "output_type": "display_data"
    }
   ],
   "source": [
    "# Distribution of Diabetes Pedigree Function\n",
    "\n",
    "sns.distplot(diabetes_df.pedi)"
   ]
  },
  {
   "cell_type": "code",
   "execution_count": 24,
   "id": "bcb7cfc2",
   "metadata": {},
   "outputs": [
    {
     "name": "stderr",
     "output_type": "stream",
     "text": [
      "D:\\Anaconda\\lib\\site-packages\\seaborn\\distributions.py:2557: FutureWarning: `distplot` is a deprecated function and will be removed in a future version. Please adapt your code to use either `displot` (a figure-level function with similar flexibility) or `histplot` (an axes-level function for histograms).\n",
      "  warnings.warn(msg, FutureWarning)\n"
     ]
    },
    {
     "data": {
      "text/plain": [
       "<AxesSubplot:xlabel='age', ylabel='Density'>"
      ]
     },
     "execution_count": 24,
     "metadata": {},
     "output_type": "execute_result"
    },
    {
     "data": {
      "image/png": "[encoded data removed]",
      "text/plain": [
       "<Figure size 432x288 with 1 Axes>"
      ]
     },
     "metadata": {},
     "output_type": "display_data"
    }
   ],
   "source": [
    "# Distribution of Age\n",
    "\n",
    "sns.distplot(diabetes_df.age)"
   ]
  },
  {
   "cell_type": "code",
   "execution_count": 25,
   "id": "2c4c3ce7",
   "metadata": {},
   "outputs": [
    {
     "data": {
      "text/html": [
       "<div>\n",
       "<style scoped>\n",
       "    .dataframe tbody tr th:only-of-type {\n",
       "        vertical-align: middle;\n",
       "    }\n",
       "\n",
       "    .dataframe tbody tr th {\n",
       "        vertical-align: top;\n",
       "    }\n",
       "\n",
       "    .dataframe thead th {\n",
       "        text-align: right;\n",
       "    }\n",
       "</style>\n",
       "<table border=\"1\" class=\"dataframe\">\n",
       "  <thead>\n",
       "    <tr style=\"text-align: right;\">\n",
       "      <th></th>\n",
       "      <th>preg</th>\n",
       "      <th>plas</th>\n",
       "      <th>pres</th>\n",
       "      <th>skin</th>\n",
       "      <th>insu</th>\n",
       "      <th>mass</th>\n",
       "      <th>pedi</th>\n",
       "      <th>age</th>\n",
       "      <th>class</th>\n",
       "    </tr>\n",
       "  </thead>\n",
       "  <tbody>\n",
       "    <tr>\n",
       "      <th>preg</th>\n",
       "      <td>1.000000</td>\n",
       "      <td>0.127957</td>\n",
       "      <td>0.208615</td>\n",
       "      <td>0.081770</td>\n",
       "      <td>0.055478</td>\n",
       "      <td>0.021546</td>\n",
       "      <td>-0.033523</td>\n",
       "      <td>0.544341</td>\n",
       "      <td>0.221898</td>\n",
       "    </tr>\n",
       "    <tr>\n",
       "      <th>plas</th>\n",
       "      <td>0.127957</td>\n",
       "      <td>1.000000</td>\n",
       "      <td>0.218615</td>\n",
       "      <td>0.192677</td>\n",
       "      <td>0.420301</td>\n",
       "      <td>0.231470</td>\n",
       "      <td>0.137100</td>\n",
       "      <td>0.266591</td>\n",
       "      <td>0.492911</td>\n",
       "    </tr>\n",
       "    <tr>\n",
       "      <th>pres</th>\n",
       "      <td>0.208615</td>\n",
       "      <td>0.218615</td>\n",
       "      <td>1.000000</td>\n",
       "      <td>0.191892</td>\n",
       "      <td>0.072041</td>\n",
       "      <td>0.281132</td>\n",
       "      <td>-0.002378</td>\n",
       "      <td>0.324915</td>\n",
       "      <td>0.165723</td>\n",
       "    </tr>\n",
       "    <tr>\n",
       "      <th>skin</th>\n",
       "      <td>0.081770</td>\n",
       "      <td>0.192677</td>\n",
       "      <td>0.191892</td>\n",
       "      <td>1.000000</td>\n",
       "      <td>0.158133</td>\n",
       "      <td>0.543275</td>\n",
       "      <td>0.102188</td>\n",
       "      <td>0.126107</td>\n",
       "      <td>0.214873</td>\n",
       "    </tr>\n",
       "    <tr>\n",
       "      <th>insu</th>\n",
       "      <td>0.055478</td>\n",
       "      <td>0.420301</td>\n",
       "      <td>0.072041</td>\n",
       "      <td>0.158133</td>\n",
       "      <td>1.000000</td>\n",
       "      <td>0.166946</td>\n",
       "      <td>0.099170</td>\n",
       "      <td>0.136050</td>\n",
       "      <td>0.214278</td>\n",
       "    </tr>\n",
       "    <tr>\n",
       "      <th>mass</th>\n",
       "      <td>0.021546</td>\n",
       "      <td>0.231470</td>\n",
       "      <td>0.281132</td>\n",
       "      <td>0.543275</td>\n",
       "      <td>0.166946</td>\n",
       "      <td>1.000000</td>\n",
       "      <td>0.153506</td>\n",
       "      <td>0.025744</td>\n",
       "      <td>0.312249</td>\n",
       "    </tr>\n",
       "    <tr>\n",
       "      <th>pedi</th>\n",
       "      <td>-0.033523</td>\n",
       "      <td>0.137100</td>\n",
       "      <td>-0.002378</td>\n",
       "      <td>0.102188</td>\n",
       "      <td>0.099170</td>\n",
       "      <td>0.153506</td>\n",
       "      <td>1.000000</td>\n",
       "      <td>0.033561</td>\n",
       "      <td>0.173844</td>\n",
       "    </tr>\n",
       "    <tr>\n",
       "      <th>age</th>\n",
       "      <td>0.544341</td>\n",
       "      <td>0.266591</td>\n",
       "      <td>0.324915</td>\n",
       "      <td>0.126107</td>\n",
       "      <td>0.136050</td>\n",
       "      <td>0.025744</td>\n",
       "      <td>0.033561</td>\n",
       "      <td>1.000000</td>\n",
       "      <td>0.238356</td>\n",
       "    </tr>\n",
       "    <tr>\n",
       "      <th>class</th>\n",
       "      <td>0.221898</td>\n",
       "      <td>0.492911</td>\n",
       "      <td>0.165723</td>\n",
       "      <td>0.214873</td>\n",
       "      <td>0.214278</td>\n",
       "      <td>0.312249</td>\n",
       "      <td>0.173844</td>\n",
       "      <td>0.238356</td>\n",
       "      <td>1.000000</td>\n",
       "    </tr>\n",
       "  </tbody>\n",
       "</table>\n",
       "</div>"
      ],
      "text/plain": [
       "           preg      plas      pres      skin      insu      mass      pedi  \\\n",
       "preg   1.000000  0.127957  0.208615  0.081770  0.055478  0.021546 -0.033523   \n",
       "plas   0.127957  1.000000  0.218615  0.192677  0.420301  0.231470  0.137100   \n",
       "pres   0.208615  0.218615  1.000000  0.191892  0.072041  0.281132 -0.002378   \n",
       "skin   0.081770  0.192677  0.191892  1.000000  0.158133  0.543275  0.102188   \n",
       "insu   0.055478  0.420301  0.072041  0.158133  1.000000  0.166946  0.099170   \n",
       "mass   0.021546  0.231470  0.281132  0.543275  0.166946  1.000000  0.153506   \n",
       "pedi  -0.033523  0.137100 -0.002378  0.102188  0.099170  0.153506  1.000000   \n",
       "age    0.544341  0.266591  0.324915  0.126107  0.136050  0.025744  0.033561   \n",
       "class  0.221898  0.492911  0.165723  0.214873  0.214278  0.312249  0.173844   \n",
       "\n",
       "            age     class  \n",
       "preg   0.544341  0.221898  \n",
       "plas   0.266591  0.492911  \n",
       "pres   0.324915  0.165723  \n",
       "skin   0.126107  0.214873  \n",
       "insu   0.136050  0.214278  \n",
       "mass   0.025744  0.312249  \n",
       "pedi   0.033561  0.173844  \n",
       "age    1.000000  0.238356  \n",
       "class  0.238356  1.000000  "
      ]
     },
     "execution_count": 25,
     "metadata": {},
     "output_type": "execute_result"
    }
   ],
   "source": [
    "# Rename class values as 1(for tested_positive) and 0(for tested_negative) to check correlation.\n",
    "\n",
    "diabetes_df['class'] = diabetes_df['class'].replace('tested_positive', 1)\n",
    "diabetes_df['class'] = diabetes_df['class'].replace('tested_negative',0)\n",
    "diabetes_df.corr()"
   ]
  },
  {
   "cell_type": "code",
   "execution_count": 26,
   "id": "4a97d424",
   "metadata": {},
   "outputs": [
    {
     "data": {
      "text/plain": [
       "<AxesSubplot:>"
      ]
     },
     "execution_count": 26,
     "metadata": {},
     "output_type": "execute_result"
    },
    {
     "data": {
      "image/png": "[encoded data removed]",
      "text/plain": [
       "<Figure size 504x504 with 2 Axes>"
      ]
     },
     "metadata": {},
     "output_type": "display_data"
    }
   ],
   "source": [
    "plt.rcParams['figure.figsize'] = (7, 7)\n",
    "sns.heatmap(diabetes_df.corr(), annot=True)"
   ]
  },
  {
   "cell_type": "code",
   "execution_count": 27,
   "id": "19e96fd7",
   "metadata": {},
   "outputs": [
    {
     "data": {
      "text/plain": [
       "tested_negative    500\n",
       "tested_positive    268\n",
       "Name: class, dtype: int64"
      ]
     },
     "execution_count": 27,
     "metadata": {},
     "output_type": "execute_result"
    }
   ],
   "source": [
    "# Reassign class value for better readablility.\n",
    "\n",
    "diabetes_df['class'] = diabetes_df['class'].replace(1,'tested_positive')\n",
    "diabetes_df['class'] = diabetes_df['class'].replace(0,'tested_negative')\n",
    "\n",
    "diabetes_df['class'].value_counts()"
   ]
  },
  {
   "cell_type": "code",
   "execution_count": 28,
   "id": "520f626d",
   "metadata": {},
   "outputs": [
    {
     "name": "stderr",
     "output_type": "stream",
     "text": [
      "D:\\Anaconda\\lib\\site-packages\\seaborn\\_decorators.py:36: FutureWarning: Pass the following variable as a keyword arg: x. From version 0.12, the only valid positional argument will be `data`, and passing other arguments without an explicit keyword will result in an error or misinterpretation.\n",
      "  warnings.warn(\n"
     ]
    },
    {
     "data": {
      "text/plain": [
       "<AxesSubplot:xlabel='class', ylabel='count'>"
      ]
     },
     "execution_count": 28,
     "metadata": {},
     "output_type": "execute_result"
    },
    {
     "data": {
      "image/png": "[encoded data removed]",
      "text/plain": [
       "<Figure size 504x504 with 1 Axes>"
      ]
     },
     "metadata": {},
     "output_type": "display_data"
    }
   ],
   "source": [
    "# Checking the distribution of the target variable(Result).\n",
    "\n",
    "sns.countplot(diabetes_df['class'])"
   ]
  },
  {
   "cell_type": "code",
   "execution_count": 29,
   "id": "78f8a237",
   "metadata": {},
   "outputs": [],
   "source": [
    "# Removing pedi and pres didn't added significant changes hence no need of removing it\n",
    "# diabetes_df.drop(['pedi', 'pres'], axis=1, inplace=True)\n",
    "\n",
    "\n",
    "X = diabetes_df.iloc[:,:-1]\n",
    "Y = diabetes_df.iloc[:,-1]"
   ]
  },
  {
   "cell_type": "code",
   "execution_count": 30,
   "id": "e46bc425",
   "metadata": {},
   "outputs": [
    {
     "data": {
      "text/html": [
       "<div>\n",
       "<style scoped>\n",
       "    .dataframe tbody tr th:only-of-type {\n",
       "        vertical-align: middle;\n",
       "    }\n",
       "\n",
       "    .dataframe tbody tr th {\n",
       "        vertical-align: top;\n",
       "    }\n",
       "\n",
       "    .dataframe thead th {\n",
       "        text-align: right;\n",
       "    }\n",
       "</style>\n",
       "<table border=\"1\" class=\"dataframe\">\n",
       "  <thead>\n",
       "    <tr style=\"text-align: right;\">\n",
       "      <th></th>\n",
       "      <th>preg</th>\n",
       "      <th>plas</th>\n",
       "      <th>pres</th>\n",
       "      <th>skin</th>\n",
       "      <th>insu</th>\n",
       "      <th>mass</th>\n",
       "      <th>pedi</th>\n",
       "      <th>age</th>\n",
       "      <th>class</th>\n",
       "    </tr>\n",
       "  </thead>\n",
       "  <tbody>\n",
       "    <tr>\n",
       "      <th>0</th>\n",
       "      <td>6</td>\n",
       "      <td>148.0</td>\n",
       "      <td>72.0</td>\n",
       "      <td>35.0</td>\n",
       "      <td>155.0</td>\n",
       "      <td>33.6</td>\n",
       "      <td>0.627</td>\n",
       "      <td>50</td>\n",
       "      <td>tested_positive</td>\n",
       "    </tr>\n",
       "    <tr>\n",
       "      <th>1</th>\n",
       "      <td>1</td>\n",
       "      <td>85.0</td>\n",
       "      <td>66.0</td>\n",
       "      <td>29.0</td>\n",
       "      <td>155.0</td>\n",
       "      <td>26.6</td>\n",
       "      <td>0.351</td>\n",
       "      <td>31</td>\n",
       "      <td>tested_negative</td>\n",
       "    </tr>\n",
       "    <tr>\n",
       "      <th>2</th>\n",
       "      <td>8</td>\n",
       "      <td>183.0</td>\n",
       "      <td>64.0</td>\n",
       "      <td>29.0</td>\n",
       "      <td>155.0</td>\n",
       "      <td>23.3</td>\n",
       "      <td>0.672</td>\n",
       "      <td>32</td>\n",
       "      <td>tested_positive</td>\n",
       "    </tr>\n",
       "    <tr>\n",
       "      <th>3</th>\n",
       "      <td>1</td>\n",
       "      <td>89.0</td>\n",
       "      <td>66.0</td>\n",
       "      <td>23.0</td>\n",
       "      <td>94.0</td>\n",
       "      <td>28.1</td>\n",
       "      <td>0.167</td>\n",
       "      <td>21</td>\n",
       "      <td>tested_negative</td>\n",
       "    </tr>\n",
       "    <tr>\n",
       "      <th>4</th>\n",
       "      <td>0</td>\n",
       "      <td>137.0</td>\n",
       "      <td>40.0</td>\n",
       "      <td>35.0</td>\n",
       "      <td>168.0</td>\n",
       "      <td>43.1</td>\n",
       "      <td>2.288</td>\n",
       "      <td>33</td>\n",
       "      <td>tested_positive</td>\n",
       "    </tr>\n",
       "    <tr>\n",
       "      <th>...</th>\n",
       "      <td>...</td>\n",
       "      <td>...</td>\n",
       "      <td>...</td>\n",
       "      <td>...</td>\n",
       "      <td>...</td>\n",
       "      <td>...</td>\n",
       "      <td>...</td>\n",
       "      <td>...</td>\n",
       "      <td>...</td>\n",
       "    </tr>\n",
       "    <tr>\n",
       "      <th>763</th>\n",
       "      <td>10</td>\n",
       "      <td>101.0</td>\n",
       "      <td>76.0</td>\n",
       "      <td>48.0</td>\n",
       "      <td>180.0</td>\n",
       "      <td>32.9</td>\n",
       "      <td>0.171</td>\n",
       "      <td>63</td>\n",
       "      <td>tested_negative</td>\n",
       "    </tr>\n",
       "    <tr>\n",
       "      <th>764</th>\n",
       "      <td>2</td>\n",
       "      <td>122.0</td>\n",
       "      <td>70.0</td>\n",
       "      <td>27.0</td>\n",
       "      <td>155.0</td>\n",
       "      <td>36.8</td>\n",
       "      <td>0.340</td>\n",
       "      <td>27</td>\n",
       "      <td>tested_negative</td>\n",
       "    </tr>\n",
       "    <tr>\n",
       "      <th>765</th>\n",
       "      <td>5</td>\n",
       "      <td>121.0</td>\n",
       "      <td>72.0</td>\n",
       "      <td>23.0</td>\n",
       "      <td>112.0</td>\n",
       "      <td>26.2</td>\n",
       "      <td>0.245</td>\n",
       "      <td>30</td>\n",
       "      <td>tested_negative</td>\n",
       "    </tr>\n",
       "    <tr>\n",
       "      <th>766</th>\n",
       "      <td>1</td>\n",
       "      <td>126.0</td>\n",
       "      <td>60.0</td>\n",
       "      <td>29.0</td>\n",
       "      <td>155.0</td>\n",
       "      <td>30.1</td>\n",
       "      <td>0.349</td>\n",
       "      <td>47</td>\n",
       "      <td>tested_positive</td>\n",
       "    </tr>\n",
       "    <tr>\n",
       "      <th>767</th>\n",
       "      <td>1</td>\n",
       "      <td>93.0</td>\n",
       "      <td>70.0</td>\n",
       "      <td>31.0</td>\n",
       "      <td>155.0</td>\n",
       "      <td>30.4</td>\n",
       "      <td>0.315</td>\n",
       "      <td>23</td>\n",
       "      <td>tested_negative</td>\n",
       "    </tr>\n",
       "  </tbody>\n",
       "</table>\n",
       "<p>768 rows × 9 columns</p>\n",
       "</div>"
      ],
      "text/plain": [
       "     preg   plas  pres  skin   insu  mass   pedi  age            class\n",
       "0       6  148.0  72.0  35.0  155.0  33.6  0.627   50  tested_positive\n",
       "1       1   85.0  66.0  29.0  155.0  26.6  0.351   31  tested_negative\n",
       "2       8  183.0  64.0  29.0  155.0  23.3  0.672   32  tested_positive\n",
       "3       1   89.0  66.0  23.0   94.0  28.1  0.167   21  tested_negative\n",
       "4       0  137.0  40.0  35.0  168.0  43.1  2.288   33  tested_positive\n",
       "..    ...    ...   ...   ...    ...   ...    ...  ...              ...\n",
       "763    10  101.0  76.0  48.0  180.0  32.9  0.171   63  tested_negative\n",
       "764     2  122.0  70.0  27.0  155.0  36.8  0.340   27  tested_negative\n",
       "765     5  121.0  72.0  23.0  112.0  26.2  0.245   30  tested_negative\n",
       "766     1  126.0  60.0  29.0  155.0  30.1  0.349   47  tested_positive\n",
       "767     1   93.0  70.0  31.0  155.0  30.4  0.315   23  tested_negative\n",
       "\n",
       "[768 rows x 9 columns]"
      ]
     },
     "execution_count": 30,
     "metadata": {},
     "output_type": "execute_result"
    }
   ],
   "source": [
    "diabetes_df"
   ]
  },
  {
   "cell_type": "code",
   "execution_count": 31,
   "id": "f9d2783e",
   "metadata": {},
   "outputs": [
    {
     "data": {
      "text/html": [
       "<div>\n",
       "<style scoped>\n",
       "    .dataframe tbody tr th:only-of-type {\n",
       "        vertical-align: middle;\n",
       "    }\n",
       "\n",
       "    .dataframe tbody tr th {\n",
       "        vertical-align: top;\n",
       "    }\n",
       "\n",
       "    .dataframe thead th {\n",
       "        text-align: right;\n",
       "    }\n",
       "</style>\n",
       "<table border=\"1\" class=\"dataframe\">\n",
       "  <thead>\n",
       "    <tr style=\"text-align: right;\">\n",
       "      <th></th>\n",
       "      <th>preg</th>\n",
       "      <th>plas</th>\n",
       "      <th>pres</th>\n",
       "      <th>skin</th>\n",
       "      <th>insu</th>\n",
       "      <th>mass</th>\n",
       "      <th>pedi</th>\n",
       "      <th>age</th>\n",
       "    </tr>\n",
       "  </thead>\n",
       "  <tbody>\n",
       "    <tr>\n",
       "      <th>0</th>\n",
       "      <td>6</td>\n",
       "      <td>148.0</td>\n",
       "      <td>72.0</td>\n",
       "      <td>35.0</td>\n",
       "      <td>155.0</td>\n",
       "      <td>33.6</td>\n",
       "      <td>0.627</td>\n",
       "      <td>50</td>\n",
       "    </tr>\n",
       "    <tr>\n",
       "      <th>1</th>\n",
       "      <td>1</td>\n",
       "      <td>85.0</td>\n",
       "      <td>66.0</td>\n",
       "      <td>29.0</td>\n",
       "      <td>155.0</td>\n",
       "      <td>26.6</td>\n",
       "      <td>0.351</td>\n",
       "      <td>31</td>\n",
       "    </tr>\n",
       "    <tr>\n",
       "      <th>2</th>\n",
       "      <td>8</td>\n",
       "      <td>183.0</td>\n",
       "      <td>64.0</td>\n",
       "      <td>29.0</td>\n",
       "      <td>155.0</td>\n",
       "      <td>23.3</td>\n",
       "      <td>0.672</td>\n",
       "      <td>32</td>\n",
       "    </tr>\n",
       "    <tr>\n",
       "      <th>3</th>\n",
       "      <td>1</td>\n",
       "      <td>89.0</td>\n",
       "      <td>66.0</td>\n",
       "      <td>23.0</td>\n",
       "      <td>94.0</td>\n",
       "      <td>28.1</td>\n",
       "      <td>0.167</td>\n",
       "      <td>21</td>\n",
       "    </tr>\n",
       "    <tr>\n",
       "      <th>4</th>\n",
       "      <td>0</td>\n",
       "      <td>137.0</td>\n",
       "      <td>40.0</td>\n",
       "      <td>35.0</td>\n",
       "      <td>168.0</td>\n",
       "      <td>43.1</td>\n",
       "      <td>2.288</td>\n",
       "      <td>33</td>\n",
       "    </tr>\n",
       "    <tr>\n",
       "      <th>...</th>\n",
       "      <td>...</td>\n",
       "      <td>...</td>\n",
       "      <td>...</td>\n",
       "      <td>...</td>\n",
       "      <td>...</td>\n",
       "      <td>...</td>\n",
       "      <td>...</td>\n",
       "      <td>...</td>\n",
       "    </tr>\n",
       "    <tr>\n",
       "      <th>763</th>\n",
       "      <td>10</td>\n",
       "      <td>101.0</td>\n",
       "      <td>76.0</td>\n",
       "      <td>48.0</td>\n",
       "      <td>180.0</td>\n",
       "      <td>32.9</td>\n",
       "      <td>0.171</td>\n",
       "      <td>63</td>\n",
       "    </tr>\n",
       "    <tr>\n",
       "      <th>764</th>\n",
       "      <td>2</td>\n",
       "      <td>122.0</td>\n",
       "      <td>70.0</td>\n",
       "      <td>27.0</td>\n",
       "      <td>155.0</td>\n",
       "      <td>36.8</td>\n",
       "      <td>0.340</td>\n",
       "      <td>27</td>\n",
       "    </tr>\n",
       "    <tr>\n",
       "      <th>765</th>\n",
       "      <td>5</td>\n",
       "      <td>121.0</td>\n",
       "      <td>72.0</td>\n",
       "      <td>23.0</td>\n",
       "      <td>112.0</td>\n",
       "      <td>26.2</td>\n",
       "      <td>0.245</td>\n",
       "      <td>30</td>\n",
       "    </tr>\n",
       "    <tr>\n",
       "      <th>766</th>\n",
       "      <td>1</td>\n",
       "      <td>126.0</td>\n",
       "      <td>60.0</td>\n",
       "      <td>29.0</td>\n",
       "      <td>155.0</td>\n",
       "      <td>30.1</td>\n",
       "      <td>0.349</td>\n",
       "      <td>47</td>\n",
       "    </tr>\n",
       "    <tr>\n",
       "      <th>767</th>\n",
       "      <td>1</td>\n",
       "      <td>93.0</td>\n",
       "      <td>70.0</td>\n",
       "      <td>31.0</td>\n",
       "      <td>155.0</td>\n",
       "      <td>30.4</td>\n",
       "      <td>0.315</td>\n",
       "      <td>23</td>\n",
       "    </tr>\n",
       "  </tbody>\n",
       "</table>\n",
       "<p>768 rows × 8 columns</p>\n",
       "</div>"
      ],
      "text/plain": [
       "     preg   plas  pres  skin   insu  mass   pedi  age\n",
       "0       6  148.0  72.0  35.0  155.0  33.6  0.627   50\n",
       "1       1   85.0  66.0  29.0  155.0  26.6  0.351   31\n",
       "2       8  183.0  64.0  29.0  155.0  23.3  0.672   32\n",
       "3       1   89.0  66.0  23.0   94.0  28.1  0.167   21\n",
       "4       0  137.0  40.0  35.0  168.0  43.1  2.288   33\n",
       "..    ...    ...   ...   ...    ...   ...    ...  ...\n",
       "763    10  101.0  76.0  48.0  180.0  32.9  0.171   63\n",
       "764     2  122.0  70.0  27.0  155.0  36.8  0.340   27\n",
       "765     5  121.0  72.0  23.0  112.0  26.2  0.245   30\n",
       "766     1  126.0  60.0  29.0  155.0  30.1  0.349   47\n",
       "767     1   93.0  70.0  31.0  155.0  30.4  0.315   23\n",
       "\n",
       "[768 rows x 8 columns]"
      ]
     },
     "execution_count": 31,
     "metadata": {},
     "output_type": "execute_result"
    }
   ],
   "source": [
    "X"
   ]
  },
  {
   "cell_type": "code",
   "execution_count": 32,
   "id": "2000d0ac",
   "metadata": {},
   "outputs": [
    {
     "data": {
      "text/plain": [
       "0      tested_positive\n",
       "1      tested_negative\n",
       "2      tested_positive\n",
       "3      tested_negative\n",
       "4      tested_positive\n",
       "            ...       \n",
       "763    tested_negative\n",
       "764    tested_negative\n",
       "765    tested_negative\n",
       "766    tested_positive\n",
       "767    tested_negative\n",
       "Name: class, Length: 768, dtype: object"
      ]
     },
     "execution_count": 32,
     "metadata": {},
     "output_type": "execute_result"
    }
   ],
   "source": [
    "Y"
   ]
  },
  {
   "cell_type": "markdown",
   "id": "68149a9a",
   "metadata": {},
   "source": [
    "# Training the data"
   ]
  },
  {
   "cell_type": "code",
   "execution_count": 33,
   "id": "915dcf7d",
   "metadata": {},
   "outputs": [],
   "source": [
    "X_train, X_test, Y_train, Y_test = train_test_split(X, Y, train_size=0.7, test_size=0.3)"
   ]
  },
  {
   "cell_type": "markdown",
   "id": "57f9d44e",
   "metadata": {},
   "source": [
    "# Building Model"
   ]
  },
  {
   "cell_type": "markdown",
   "id": "817b44ea",
   "metadata": {},
   "source": [
    "## 1. Random Forest"
   ]
  },
  {
   "cell_type": "code",
   "execution_count": 34,
   "id": "502bb22c",
   "metadata": {},
   "outputs": [
    {
     "data": {
      "text/plain": [
       "array(['tested_negative', 'tested_positive', 'tested_negative',\n",
       "       'tested_negative', 'tested_negative', 'tested_negative',\n",
       "       'tested_negative', 'tested_positive', 'tested_negative',\n",
       "       'tested_negative', 'tested_negative', 'tested_negative',\n",
       "       'tested_negative', 'tested_negative', 'tested_negative',\n",
       "       'tested_negative', 'tested_negative', 'tested_negative',\n",
       "       'tested_positive', 'tested_positive', 'tested_positive',\n",
       "       'tested_negative', 'tested_negative', 'tested_negative',\n",
       "       'tested_positive', 'tested_positive', 'tested_negative',\n",
       "       'tested_negative', 'tested_positive', 'tested_negative',\n",
       "       'tested_negative', 'tested_negative', 'tested_negative',\n",
       "       'tested_positive', 'tested_negative', 'tested_negative',\n",
       "       'tested_positive', 'tested_negative', 'tested_negative',\n",
       "       'tested_negative', 'tested_negative', 'tested_negative',\n",
       "       'tested_positive', 'tested_positive', 'tested_negative',\n",
       "       'tested_negative', 'tested_negative', 'tested_negative',\n",
       "       'tested_positive', 'tested_negative', 'tested_negative',\n",
       "       'tested_positive', 'tested_negative', 'tested_negative',\n",
       "       'tested_negative', 'tested_negative', 'tested_negative',\n",
       "       'tested_negative', 'tested_negative', 'tested_positive',\n",
       "       'tested_negative', 'tested_negative', 'tested_positive',\n",
       "       'tested_negative', 'tested_negative', 'tested_negative',\n",
       "       'tested_positive', 'tested_positive', 'tested_negative',\n",
       "       'tested_negative', 'tested_positive', 'tested_negative',\n",
       "       'tested_positive', 'tested_positive', 'tested_negative',\n",
       "       'tested_positive', 'tested_negative', 'tested_negative',\n",
       "       'tested_positive', 'tested_positive', 'tested_negative',\n",
       "       'tested_positive', 'tested_negative', 'tested_negative',\n",
       "       'tested_positive', 'tested_negative', 'tested_negative',\n",
       "       'tested_positive', 'tested_negative', 'tested_positive',\n",
       "       'tested_negative', 'tested_negative', 'tested_positive',\n",
       "       'tested_negative', 'tested_negative', 'tested_positive',\n",
       "       'tested_negative', 'tested_positive', 'tested_positive',\n",
       "       'tested_positive', 'tested_negative', 'tested_positive',\n",
       "       'tested_negative', 'tested_positive', 'tested_negative',\n",
       "       'tested_positive', 'tested_positive', 'tested_positive',\n",
       "       'tested_positive', 'tested_positive', 'tested_positive',\n",
       "       'tested_negative', 'tested_positive', 'tested_negative',\n",
       "       'tested_positive', 'tested_negative', 'tested_negative',\n",
       "       'tested_negative', 'tested_negative', 'tested_negative',\n",
       "       'tested_negative', 'tested_negative', 'tested_negative',\n",
       "       'tested_positive', 'tested_positive', 'tested_negative',\n",
       "       'tested_negative', 'tested_negative', 'tested_negative',\n",
       "       'tested_negative', 'tested_negative', 'tested_positive',\n",
       "       'tested_negative', 'tested_positive', 'tested_negative',\n",
       "       'tested_negative', 'tested_positive', 'tested_negative',\n",
       "       'tested_positive', 'tested_positive', 'tested_negative',\n",
       "       'tested_negative', 'tested_negative', 'tested_positive',\n",
       "       'tested_negative', 'tested_positive', 'tested_negative',\n",
       "       'tested_positive', 'tested_negative', 'tested_positive',\n",
       "       'tested_negative', 'tested_negative', 'tested_positive',\n",
       "       'tested_negative', 'tested_positive', 'tested_negative',\n",
       "       'tested_negative', 'tested_positive', 'tested_negative',\n",
       "       'tested_negative', 'tested_negative', 'tested_negative',\n",
       "       'tested_negative', 'tested_negative', 'tested_positive',\n",
       "       'tested_negative', 'tested_negative', 'tested_negative',\n",
       "       'tested_negative', 'tested_negative', 'tested_positive',\n",
       "       'tested_positive', 'tested_positive', 'tested_negative',\n",
       "       'tested_positive', 'tested_negative', 'tested_negative',\n",
       "       'tested_positive', 'tested_negative', 'tested_positive',\n",
       "       'tested_negative', 'tested_positive', 'tested_negative',\n",
       "       'tested_negative', 'tested_negative', 'tested_negative',\n",
       "       'tested_positive', 'tested_negative', 'tested_positive',\n",
       "       'tested_negative', 'tested_negative', 'tested_negative',\n",
       "       'tested_negative', 'tested_negative', 'tested_negative',\n",
       "       'tested_negative', 'tested_positive', 'tested_negative',\n",
       "       'tested_negative', 'tested_negative', 'tested_negative',\n",
       "       'tested_positive', 'tested_positive', 'tested_negative',\n",
       "       'tested_negative', 'tested_negative', 'tested_negative',\n",
       "       'tested_positive', 'tested_negative', 'tested_positive',\n",
       "       'tested_negative', 'tested_negative', 'tested_negative',\n",
       "       'tested_negative', 'tested_negative', 'tested_positive',\n",
       "       'tested_negative', 'tested_positive', 'tested_negative',\n",
       "       'tested_negative', 'tested_negative', 'tested_negative',\n",
       "       'tested_negative', 'tested_positive', 'tested_negative',\n",
       "       'tested_positive', 'tested_negative', 'tested_negative',\n",
       "       'tested_negative', 'tested_positive', 'tested_positive'],\n",
       "      dtype=object)"
      ]
     },
     "execution_count": 34,
     "metadata": {},
     "output_type": "execute_result"
    }
   ],
   "source": [
    "# To model Random Forest\n",
    "\n",
    "\n",
    "from sklearn.ensemble import RandomForestClassifier\n",
    "\n",
    "rfc = RandomForestClassifier()\n",
    "\n",
    "rfc.fit(X_train, Y_train)\n",
    "\n",
    "Y_predict = rfc.predict(X_test)\n",
    "\n",
    "Y_predict"
   ]
  },
  {
   "cell_type": "markdown",
   "id": "b2f56e5f",
   "metadata": {},
   "source": [
    "### Random Forest Accuracy"
   ]
  },
  {
   "cell_type": "code",
   "execution_count": 35,
   "id": "384b0dee",
   "metadata": {},
   "outputs": [
    {
     "data": {
      "text/plain": [
       "0.7705627705627706"
      ]
     },
     "execution_count": 35,
     "metadata": {},
     "output_type": "execute_result"
    }
   ],
   "source": [
    "accuracy_score(Y_test, Y_predict)"
   ]
  },
  {
   "cell_type": "code",
   "execution_count": null,
   "id": "0e3b6393",
   "metadata": {},
   "outputs": [],
   "source": []
  },
  {
   "cell_type": "code",
   "execution_count": null,
   "id": "390b1aec",
   "metadata": {},
   "outputs": [],
   "source": []
  },
  {
   "cell_type": "markdown",
   "id": "bf1fce08",
   "metadata": {},
   "source": [
    "## 2. Decision Tree"
   ]
  },
  {
   "cell_type": "code",
   "execution_count": 36,
   "id": "9295ab76",
   "metadata": {},
   "outputs": [
    {
     "data": {
      "text/plain": [
       "array(['tested_negative', 'tested_positive', 'tested_negative',\n",
       "       'tested_negative', 'tested_negative', 'tested_positive',\n",
       "       'tested_negative', 'tested_positive', 'tested_negative',\n",
       "       'tested_negative', 'tested_negative', 'tested_negative',\n",
       "       'tested_negative', 'tested_negative', 'tested_negative',\n",
       "       'tested_negative', 'tested_positive', 'tested_positive',\n",
       "       'tested_positive', 'tested_positive', 'tested_positive',\n",
       "       'tested_negative', 'tested_positive', 'tested_negative',\n",
       "       'tested_positive', 'tested_positive', 'tested_negative',\n",
       "       'tested_positive', 'tested_negative', 'tested_negative',\n",
       "       'tested_positive', 'tested_positive', 'tested_negative',\n",
       "       'tested_positive', 'tested_negative', 'tested_negative',\n",
       "       'tested_positive', 'tested_negative', 'tested_negative',\n",
       "       'tested_positive', 'tested_negative', 'tested_negative',\n",
       "       'tested_negative', 'tested_positive', 'tested_negative',\n",
       "       'tested_positive', 'tested_negative', 'tested_negative',\n",
       "       'tested_positive', 'tested_negative', 'tested_positive',\n",
       "       'tested_negative', 'tested_negative', 'tested_negative',\n",
       "       'tested_negative', 'tested_negative', 'tested_negative',\n",
       "       'tested_negative', 'tested_positive', 'tested_positive',\n",
       "       'tested_positive', 'tested_negative', 'tested_positive',\n",
       "       'tested_negative', 'tested_negative', 'tested_negative',\n",
       "       'tested_positive', 'tested_positive', 'tested_negative',\n",
       "       'tested_negative', 'tested_positive', 'tested_negative',\n",
       "       'tested_negative', 'tested_negative', 'tested_negative',\n",
       "       'tested_positive', 'tested_negative', 'tested_negative',\n",
       "       'tested_positive', 'tested_positive', 'tested_negative',\n",
       "       'tested_negative', 'tested_negative', 'tested_negative',\n",
       "       'tested_negative', 'tested_positive', 'tested_negative',\n",
       "       'tested_positive', 'tested_negative', 'tested_negative',\n",
       "       'tested_negative', 'tested_negative', 'tested_positive',\n",
       "       'tested_negative', 'tested_negative', 'tested_negative',\n",
       "       'tested_negative', 'tested_positive', 'tested_negative',\n",
       "       'tested_negative', 'tested_negative', 'tested_positive',\n",
       "       'tested_negative', 'tested_negative', 'tested_negative',\n",
       "       'tested_positive', 'tested_positive', 'tested_positive',\n",
       "       'tested_positive', 'tested_positive', 'tested_positive',\n",
       "       'tested_negative', 'tested_positive', 'tested_positive',\n",
       "       'tested_positive', 'tested_negative', 'tested_negative',\n",
       "       'tested_negative', 'tested_negative', 'tested_negative',\n",
       "       'tested_negative', 'tested_negative', 'tested_positive',\n",
       "       'tested_positive', 'tested_positive', 'tested_positive',\n",
       "       'tested_negative', 'tested_positive', 'tested_negative',\n",
       "       'tested_negative', 'tested_negative', 'tested_positive',\n",
       "       'tested_negative', 'tested_positive', 'tested_negative',\n",
       "       'tested_negative', 'tested_positive', 'tested_negative',\n",
       "       'tested_positive', 'tested_positive', 'tested_positive',\n",
       "       'tested_negative', 'tested_negative', 'tested_positive',\n",
       "       'tested_negative', 'tested_positive', 'tested_negative',\n",
       "       'tested_positive', 'tested_negative', 'tested_positive',\n",
       "       'tested_negative', 'tested_positive', 'tested_positive',\n",
       "       'tested_negative', 'tested_positive', 'tested_positive',\n",
       "       'tested_negative', 'tested_positive', 'tested_negative',\n",
       "       'tested_negative', 'tested_negative', 'tested_positive',\n",
       "       'tested_negative', 'tested_negative', 'tested_negative',\n",
       "       'tested_negative', 'tested_negative', 'tested_positive',\n",
       "       'tested_negative', 'tested_negative', 'tested_negative',\n",
       "       'tested_negative', 'tested_positive', 'tested_negative',\n",
       "       'tested_positive', 'tested_negative', 'tested_negative',\n",
       "       'tested_positive', 'tested_negative', 'tested_negative',\n",
       "       'tested_negative', 'tested_positive', 'tested_positive',\n",
       "       'tested_negative', 'tested_negative', 'tested_negative',\n",
       "       'tested_positive', 'tested_negative', 'tested_positive',\n",
       "       'tested_negative', 'tested_positive', 'tested_negative',\n",
       "       'tested_negative', 'tested_negative', 'tested_negative',\n",
       "       'tested_negative', 'tested_positive', 'tested_negative',\n",
       "       'tested_negative', 'tested_positive', 'tested_negative',\n",
       "       'tested_positive', 'tested_positive', 'tested_negative',\n",
       "       'tested_negative', 'tested_negative', 'tested_negative',\n",
       "       'tested_negative', 'tested_negative', 'tested_negative',\n",
       "       'tested_negative', 'tested_negative', 'tested_negative',\n",
       "       'tested_negative', 'tested_negative', 'tested_negative',\n",
       "       'tested_positive', 'tested_positive', 'tested_negative',\n",
       "       'tested_negative', 'tested_negative', 'tested_negative',\n",
       "       'tested_negative', 'tested_positive', 'tested_negative',\n",
       "       'tested_positive', 'tested_negative', 'tested_negative',\n",
       "       'tested_negative', 'tested_negative', 'tested_positive'],\n",
       "      dtype=object)"
      ]
     },
     "execution_count": 36,
     "metadata": {},
     "output_type": "execute_result"
    }
   ],
   "source": [
    "# To model Random Forest\n",
    "\n",
    "\n",
    "from sklearn.tree import DecisionTreeClassifier\n",
    "\n",
    "dtc = DecisionTreeClassifier()\n",
    "\n",
    "dtc.fit(X_train, Y_train)\n",
    "\n",
    "Y_predict = dtc.predict(X_test)\n",
    "\n",
    "Y_predict"
   ]
  },
  {
   "cell_type": "markdown",
   "id": "3ca13bd9",
   "metadata": {},
   "source": [
    "### Decision Tree Accuracy"
   ]
  },
  {
   "cell_type": "code",
   "execution_count": 37,
   "id": "e9dc9e99",
   "metadata": {},
   "outputs": [
    {
     "data": {
      "text/plain": [
       "0.683982683982684"
      ]
     },
     "execution_count": 37,
     "metadata": {},
     "output_type": "execute_result"
    }
   ],
   "source": [
    "accuracy_score(Y_test, Y_predict)"
   ]
  },
  {
   "cell_type": "code",
   "execution_count": null,
   "id": "d32fcabc",
   "metadata": {},
   "outputs": [],
   "source": []
  },
  {
   "cell_type": "code",
   "execution_count": null,
   "id": "7a80091b",
   "metadata": {},
   "outputs": [],
   "source": []
  },
  {
   "cell_type": "markdown",
   "id": "b6d20852",
   "metadata": {},
   "source": [
    "# 3. Support Vector Machine (SVM)"
   ]
  },
  {
   "cell_type": "code",
   "execution_count": 38,
   "id": "728309da",
   "metadata": {},
   "outputs": [
    {
     "data": {
      "text/plain": [
       "array(['tested_negative', 'tested_negative', 'tested_negative',\n",
       "       'tested_negative', 'tested_negative', 'tested_negative',\n",
       "       'tested_negative', 'tested_negative', 'tested_negative',\n",
       "       'tested_negative', 'tested_negative', 'tested_negative',\n",
       "       'tested_negative', 'tested_negative', 'tested_negative',\n",
       "       'tested_negative', 'tested_negative', 'tested_negative',\n",
       "       'tested_positive', 'tested_negative', 'tested_positive',\n",
       "       'tested_negative', 'tested_negative', 'tested_negative',\n",
       "       'tested_negative', 'tested_positive', 'tested_positive',\n",
       "       'tested_negative', 'tested_negative', 'tested_negative',\n",
       "       'tested_negative', 'tested_negative', 'tested_negative',\n",
       "       'tested_positive', 'tested_negative', 'tested_negative',\n",
       "       'tested_positive', 'tested_negative', 'tested_negative',\n",
       "       'tested_positive', 'tested_negative', 'tested_negative',\n",
       "       'tested_negative', 'tested_positive', 'tested_negative',\n",
       "       'tested_positive', 'tested_negative', 'tested_negative',\n",
       "       'tested_negative', 'tested_negative', 'tested_negative',\n",
       "       'tested_negative', 'tested_negative', 'tested_negative',\n",
       "       'tested_negative', 'tested_negative', 'tested_negative',\n",
       "       'tested_negative', 'tested_negative', 'tested_positive',\n",
       "       'tested_negative', 'tested_negative', 'tested_negative',\n",
       "       'tested_negative', 'tested_negative', 'tested_negative',\n",
       "       'tested_positive', 'tested_negative', 'tested_negative',\n",
       "       'tested_negative', 'tested_positive', 'tested_negative',\n",
       "       'tested_positive', 'tested_positive', 'tested_negative',\n",
       "       'tested_positive', 'tested_negative', 'tested_negative',\n",
       "       'tested_positive', 'tested_negative', 'tested_negative',\n",
       "       'tested_positive', 'tested_negative', 'tested_negative',\n",
       "       'tested_positive', 'tested_negative', 'tested_negative',\n",
       "       'tested_positive', 'tested_negative', 'tested_negative',\n",
       "       'tested_negative', 'tested_negative', 'tested_negative',\n",
       "       'tested_negative', 'tested_negative', 'tested_positive',\n",
       "       'tested_negative', 'tested_positive', 'tested_positive',\n",
       "       'tested_negative', 'tested_negative', 'tested_positive',\n",
       "       'tested_negative', 'tested_negative', 'tested_negative',\n",
       "       'tested_positive', 'tested_negative', 'tested_positive',\n",
       "       'tested_positive', 'tested_positive', 'tested_positive',\n",
       "       'tested_negative', 'tested_positive', 'tested_negative',\n",
       "       'tested_positive', 'tested_negative', 'tested_negative',\n",
       "       'tested_negative', 'tested_negative', 'tested_negative',\n",
       "       'tested_negative', 'tested_negative', 'tested_negative',\n",
       "       'tested_positive', 'tested_negative', 'tested_negative',\n",
       "       'tested_negative', 'tested_negative', 'tested_negative',\n",
       "       'tested_negative', 'tested_negative', 'tested_positive',\n",
       "       'tested_negative', 'tested_positive', 'tested_negative',\n",
       "       'tested_negative', 'tested_positive', 'tested_negative',\n",
       "       'tested_positive', 'tested_positive', 'tested_negative',\n",
       "       'tested_negative', 'tested_negative', 'tested_positive',\n",
       "       'tested_negative', 'tested_positive', 'tested_negative',\n",
       "       'tested_positive', 'tested_negative', 'tested_positive',\n",
       "       'tested_negative', 'tested_negative', 'tested_positive',\n",
       "       'tested_negative', 'tested_positive', 'tested_negative',\n",
       "       'tested_negative', 'tested_positive', 'tested_negative',\n",
       "       'tested_negative', 'tested_negative', 'tested_negative',\n",
       "       'tested_negative', 'tested_positive', 'tested_negative',\n",
       "       'tested_negative', 'tested_negative', 'tested_negative',\n",
       "       'tested_negative', 'tested_negative', 'tested_negative',\n",
       "       'tested_negative', 'tested_positive', 'tested_negative',\n",
       "       'tested_positive', 'tested_negative', 'tested_negative',\n",
       "       'tested_negative', 'tested_negative', 'tested_positive',\n",
       "       'tested_negative', 'tested_negative', 'tested_negative',\n",
       "       'tested_negative', 'tested_negative', 'tested_negative',\n",
       "       'tested_positive', 'tested_negative', 'tested_positive',\n",
       "       'tested_negative', 'tested_negative', 'tested_negative',\n",
       "       'tested_negative', 'tested_negative', 'tested_negative',\n",
       "       'tested_negative', 'tested_positive', 'tested_negative',\n",
       "       'tested_negative', 'tested_negative', 'tested_negative',\n",
       "       'tested_positive', 'tested_positive', 'tested_negative',\n",
       "       'tested_negative', 'tested_negative', 'tested_negative',\n",
       "       'tested_positive', 'tested_negative', 'tested_negative',\n",
       "       'tested_negative', 'tested_negative', 'tested_negative',\n",
       "       'tested_negative', 'tested_negative', 'tested_positive',\n",
       "       'tested_negative', 'tested_negative', 'tested_negative',\n",
       "       'tested_negative', 'tested_negative', 'tested_negative',\n",
       "       'tested_negative', 'tested_positive', 'tested_negative',\n",
       "       'tested_positive', 'tested_negative', 'tested_negative',\n",
       "       'tested_negative', 'tested_positive', 'tested_positive'],\n",
       "      dtype=object)"
      ]
     },
     "execution_count": 38,
     "metadata": {},
     "output_type": "execute_result"
    }
   ],
   "source": [
    "# To model Support Vector Machine\n",
    "\n",
    "from sklearn.svm import SVC\n",
    "\n",
    "svm_model = SVC()\n",
    "\n",
    "svm_model.fit(X_train, Y_train)\n",
    "\n",
    "Y_predict = svm_model.predict(X_test)\n",
    "\n",
    "Y_predict"
   ]
  },
  {
   "cell_type": "markdown",
   "id": "3ff21cbc",
   "metadata": {},
   "source": [
    "### Support Vector Machine (SVM) Accuracy"
   ]
  },
  {
   "cell_type": "code",
   "execution_count": 39,
   "id": "706c5abe",
   "metadata": {},
   "outputs": [
    {
     "data": {
      "text/plain": [
       "0.7359307359307359"
      ]
     },
     "execution_count": 39,
     "metadata": {},
     "output_type": "execute_result"
    }
   ],
   "source": [
    "accuracy_score(Y_test, Y_predict)"
   ]
  },
  {
   "cell_type": "code",
   "execution_count": null,
   "id": "1466efac",
   "metadata": {},
   "outputs": [],
   "source": []
  },
  {
   "cell_type": "code",
   "execution_count": null,
   "id": "5c79c9d8",
   "metadata": {},
   "outputs": [],
   "source": []
  },
  {
   "cell_type": "markdown",
   "id": "6cf3c207",
   "metadata": {},
   "source": [
    "# 4. K Nearest Neighbors (KNN)"
   ]
  },
  {
   "cell_type": "code",
   "execution_count": 40,
   "id": "ee289484",
   "metadata": {},
   "outputs": [
    {
     "name": "stdout",
     "output_type": "stream",
     "text": [
      "Training data:\n",
      "[[-0.28789734  2.16047808 -0.17285207 ...  0.65040133 -0.17925492\n",
      "   0.23517861]\n",
      " [-0.58125764  0.04378323 -0.17285207 ...  0.7097548  -0.3853659\n",
      "  -0.53177025]\n",
      " [ 0.59218353  0.53225127 -0.91476509 ... -1.15987961 -0.9582332\n",
      "   1.85429285]\n",
      " ...\n",
      " [ 0.29882324  1.11841293  0.98123485 ...  0.9916838   0.46029534\n",
      "   0.06474553]\n",
      " [-0.58125764 -1.09597554 -1.16206943 ...  0.1013817  -0.91276754\n",
      "  -0.70220333]\n",
      " [ 1.4722644  -1.58444358  0.48662617 ... -0.06184035 -0.56722854\n",
      "   0.40561168]]\n",
      "\n",
      "Testing data\n",
      "[[-0.58125764 -0.11903945  1.47584353 ... -1.01149592 -0.46720409\n",
      "  -1.04306949]\n",
      " [-1.16797822  0.66250942 -0.00798251 ...  1.54070343 -0.79455683\n",
      "  -0.36133717]\n",
      " [-1.16797822 -0.90058832 -0.99719987 ...  0.48717928 -0.61875628\n",
      "  -0.70220333]\n",
      " ...\n",
      " [ 1.4722644   0.43455767  0.15688705 ... -0.90762734 -0.02164064\n",
      "   4.06992288]\n",
      " [-0.28789734  1.6394455  -0.00798251 ...  0.19041191 -0.81274309\n",
      "  -0.78741987]\n",
      " [ 1.17890411  2.45355891  0.32175661 ...  0.81362338  0.41786072\n",
      "   2.02472593]]\n"
     ]
    }
   ],
   "source": [
    "# Feature Scaling\n",
    "\n",
    "from sklearn.preprocessing import StandardScaler\n",
    "\n",
    "ss = StandardScaler()\n",
    "\n",
    "X_train = ss.fit_transform(X_train)\n",
    "X_test = ss.transform(X_test)\n",
    "\n",
    "print('Training data:')\n",
    "print(X_train)\n",
    "print()\n",
    "print('Testing data')\n",
    "print(X_test)"
   ]
  },
  {
   "cell_type": "code",
   "execution_count": 41,
   "id": "b793c99a",
   "metadata": {},
   "outputs": [
    {
     "data": {
      "text/plain": [
       "array(['tested_negative', 'tested_negative', 'tested_negative',\n",
       "       'tested_negative', 'tested_negative', 'tested_negative',\n",
       "       'tested_positive', 'tested_negative', 'tested_negative',\n",
       "       'tested_negative', 'tested_negative', 'tested_negative',\n",
       "       'tested_negative', 'tested_negative', 'tested_negative',\n",
       "       'tested_negative', 'tested_negative', 'tested_negative',\n",
       "       'tested_positive', 'tested_positive', 'tested_negative',\n",
       "       'tested_positive', 'tested_positive', 'tested_negative',\n",
       "       'tested_positive', 'tested_positive', 'tested_positive',\n",
       "       'tested_negative', 'tested_positive', 'tested_negative',\n",
       "       'tested_negative', 'tested_negative', 'tested_negative',\n",
       "       'tested_positive', 'tested_negative', 'tested_negative',\n",
       "       'tested_negative', 'tested_negative', 'tested_negative',\n",
       "       'tested_negative', 'tested_negative', 'tested_negative',\n",
       "       'tested_positive', 'tested_positive', 'tested_negative',\n",
       "       'tested_negative', 'tested_negative', 'tested_positive',\n",
       "       'tested_negative', 'tested_negative', 'tested_negative',\n",
       "       'tested_positive', 'tested_negative', 'tested_negative',\n",
       "       'tested_negative', 'tested_negative', 'tested_negative',\n",
       "       'tested_negative', 'tested_positive', 'tested_positive',\n",
       "       'tested_negative', 'tested_negative', 'tested_positive',\n",
       "       'tested_negative', 'tested_negative', 'tested_negative',\n",
       "       'tested_negative', 'tested_positive', 'tested_negative',\n",
       "       'tested_negative', 'tested_positive', 'tested_negative',\n",
       "       'tested_positive', 'tested_negative', 'tested_negative',\n",
       "       'tested_positive', 'tested_negative', 'tested_negative',\n",
       "       'tested_positive', 'tested_negative', 'tested_negative',\n",
       "       'tested_negative', 'tested_negative', 'tested_negative',\n",
       "       'tested_negative', 'tested_negative', 'tested_negative',\n",
       "       'tested_positive', 'tested_negative', 'tested_negative',\n",
       "       'tested_negative', 'tested_negative', 'tested_positive',\n",
       "       'tested_negative', 'tested_negative', 'tested_positive',\n",
       "       'tested_negative', 'tested_positive', 'tested_negative',\n",
       "       'tested_positive', 'tested_negative', 'tested_negative',\n",
       "       'tested_negative', 'tested_negative', 'tested_negative',\n",
       "       'tested_positive', 'tested_positive', 'tested_positive',\n",
       "       'tested_positive', 'tested_positive', 'tested_positive',\n",
       "       'tested_negative', 'tested_positive', 'tested_positive',\n",
       "       'tested_positive', 'tested_negative', 'tested_negative',\n",
       "       'tested_negative', 'tested_negative', 'tested_negative',\n",
       "       'tested_negative', 'tested_negative', 'tested_negative',\n",
       "       'tested_negative', 'tested_positive', 'tested_negative',\n",
       "       'tested_negative', 'tested_negative', 'tested_negative',\n",
       "       'tested_positive', 'tested_negative', 'tested_positive',\n",
       "       'tested_negative', 'tested_positive', 'tested_negative',\n",
       "       'tested_negative', 'tested_positive', 'tested_negative',\n",
       "       'tested_positive', 'tested_positive', 'tested_negative',\n",
       "       'tested_negative', 'tested_negative', 'tested_positive',\n",
       "       'tested_negative', 'tested_positive', 'tested_negative',\n",
       "       'tested_positive', 'tested_negative', 'tested_positive',\n",
       "       'tested_negative', 'tested_positive', 'tested_negative',\n",
       "       'tested_negative', 'tested_positive', 'tested_negative',\n",
       "       'tested_negative', 'tested_positive', 'tested_negative',\n",
       "       'tested_negative', 'tested_negative', 'tested_negative',\n",
       "       'tested_negative', 'tested_negative', 'tested_negative',\n",
       "       'tested_negative', 'tested_negative', 'tested_negative',\n",
       "       'tested_negative', 'tested_negative', 'tested_negative',\n",
       "       'tested_positive', 'tested_positive', 'tested_negative',\n",
       "       'tested_positive', 'tested_negative', 'tested_negative',\n",
       "       'tested_positive', 'tested_negative', 'tested_positive',\n",
       "       'tested_negative', 'tested_negative', 'tested_negative',\n",
       "       'tested_negative', 'tested_negative', 'tested_negative',\n",
       "       'tested_positive', 'tested_negative', 'tested_positive',\n",
       "       'tested_negative', 'tested_positive', 'tested_negative',\n",
       "       'tested_negative', 'tested_positive', 'tested_negative',\n",
       "       'tested_negative', 'tested_positive', 'tested_negative',\n",
       "       'tested_negative', 'tested_negative', 'tested_negative',\n",
       "       'tested_positive', 'tested_positive', 'tested_negative',\n",
       "       'tested_negative', 'tested_negative', 'tested_negative',\n",
       "       'tested_positive', 'tested_negative', 'tested_negative',\n",
       "       'tested_positive', 'tested_negative', 'tested_negative',\n",
       "       'tested_negative', 'tested_negative', 'tested_positive',\n",
       "       'tested_negative', 'tested_positive', 'tested_negative',\n",
       "       'tested_negative', 'tested_negative', 'tested_negative',\n",
       "       'tested_negative', 'tested_positive', 'tested_positive',\n",
       "       'tested_negative', 'tested_negative', 'tested_negative',\n",
       "       'tested_negative', 'tested_positive', 'tested_positive'],\n",
       "      dtype=object)"
      ]
     },
     "execution_count": 41,
     "metadata": {},
     "output_type": "execute_result"
    }
   ],
   "source": [
    "# To model K Nearest Neighbors (KNN)\n",
    "\n",
    "\n",
    "from sklearn.neighbors import KNeighborsClassifier\n",
    "\n",
    "knn = KNeighborsClassifier()\n",
    "\n",
    "knn.fit(X_train, Y_train)\n",
    "\n",
    "Y_predict = knn.predict(X_test)\n",
    "\n",
    "Y_predict"
   ]
  },
  {
   "cell_type": "markdown",
   "id": "d80355de",
   "metadata": {},
   "source": [
    "### K Nearest Neighbors (KNN) Accuracy"
   ]
  },
  {
   "cell_type": "code",
   "execution_count": 42,
   "id": "221b8879",
   "metadata": {},
   "outputs": [
    {
     "data": {
      "text/plain": [
       "0.7619047619047619"
      ]
     },
     "execution_count": 42,
     "metadata": {},
     "output_type": "execute_result"
    }
   ],
   "source": [
    "accuracy_score(Y_test, Y_predict)"
   ]
  },
  {
   "cell_type": "code",
   "execution_count": null,
   "id": "890f61ae",
   "metadata": {},
   "outputs": [],
   "source": []
  },
  {
   "cell_type": "code",
   "execution_count": null,
   "id": "ed91c5b1",
   "metadata": {},
   "outputs": [],
   "source": []
  }
 ],
 "metadata": {
  "kernelspec": {
   "display_name": "Python 3",
   "language": "python",
   "name": "python3"
  },
  "language_info": {
   "codemirror_mode": {
    "name": "ipython",
    "version": 3
   },
   "file_extension": ".py",
   "mimetype": "text/x-python",
   "name": "python",
   "nbconvert_exporter": "python",
   "pygments_lexer": "ipython3",
   "version": "3.8.8"
  }
 },
 "nbformat": 4,
 "nbformat_minor": 5
}
